{
 "cells": [
  {
   "cell_type": "markdown",
   "id": "2c1f17f3",
   "metadata": {},
   "source": [
    "# Helper functions"
   ]
  },
  {
   "cell_type": "code",
   "execution_count": 1,
   "id": "f6ce6442",
   "metadata": {},
   "outputs": [],
   "source": [
    "%load_ext autoreload\n",
    "%autoreload 2\n",
    "\n",
    "import re\n",
    "import pandas as pd\n",
    "import json\n",
    "from SynFlow.SCD import print_js_shifts, plot_jsd_over_time, plot_all_jsd_shifts"
   ]
  },
  {
   "cell_type": "code",
   "execution_count": 2,
   "id": "552a039e",
   "metadata": {},
   "outputs": [],
   "source": [
    "# # Build a dependency graph\n",
    "# from collections import defaultdict\n",
    "\n",
    "# def build_graph(tokens, pattern):\n",
    "#     \"\"\"\n",
    "#     Given a list of conllu tokens and a regex pattern, build a dependency graph,\n",
    "#     a mapping of id to lemma/pos, and a mapping of edge to deprel.\n",
    "\n",
    "#     Returns a tuple of (id2lemma_pos, graph, id2deprel).\n",
    "#     \"\"\"\n",
    "    \n",
    "#     id2lemma_pos = {}\n",
    "#     graph        = defaultdict(list)\n",
    "#     id2deprel    = {}\n",
    "\n",
    "#     for tok in tokens:\n",
    "#         m = pattern.match(tok)\n",
    "#         if not m:\n",
    "#             continue\n",
    "#         # You don't need the wordform to create a dependency graph\n",
    "#         _, lemma, pos, idx, head, deprel = m.groups()\n",
    "#         # Create a dictionary of {id: lemma/pos}\n",
    "#         id2lemma_pos[idx] = f'{lemma}/{pos}'\n",
    "#         # If the current word is not the root\n",
    "#         if head != '0':\n",
    "#             # Create an un-directional graph of with 2 dictionary entries {children: [parents]} and {parents: [children]}\n",
    "#             graph[idx].append(head)\n",
    "#             graph[head].append(idx)\n",
    "\n",
    "#             # Create a un-directional graph with 2 dictionary entries {edge: deprel}\n",
    "#             # chi: child-ward, pa: parent-ward\n",
    "#             id2deprel[(idx, head)] = f'pa_{deprel}'\n",
    "#             id2deprel[(head, idx)] = f'chi_{deprel}'\n",
    "#     return id2lemma_pos, graph, id2deprel"
   ]
  },
  {
   "cell_type": "code",
   "execution_count": 3,
   "id": "3406d956",
   "metadata": {},
   "outputs": [],
   "source": [
    "# Replace in file(s)\n",
    "\n",
    "def replace_in_file(file_path, replacements):\n",
    "    \"\"\"\n",
    "    Replace strings in a single file.\n",
    "\n",
    "    Parameters:\n",
    "    - file_path (str): Path to the file to process.\n",
    "    - replacements (dict): Dictionary of replacements, e.g., {\"old_term\": \"new_term\"}\n",
    "    \"\"\"\n",
    "    with open(file_path, 'r', encoding='utf-8') as f:\n",
    "        content = f.read()\n",
    "\n",
    "    for old, new in replacements.items():\n",
    "        content = content.replace(old, new)\n",
    "\n",
    "    with open(file_path, 'w', encoding='utf-8') as f:\n",
    "        f.write(content)\n",
    "\n",
    "    print(f\"✓ Done: {file_path}\")\n",
    "\n",
    "import os\n",
    "\n",
    "def replace_in_folder(folder, replacements, file_suffix=None):\n",
    "    \"\"\"\n",
    "    Apply `replace_in_file` to all files in a folder.\n",
    "\n",
    "    Parameters:\n",
    "    - folder (str): Path to the folder.\n",
    "    - replacements (dict): Dictionary of replacements.\n",
    "    - file_suffix (str): Only process files ending with this suffix (optional).\n",
    "    \"\"\"\n",
    "    for filename in os.listdir(folder):\n",
    "        file_path = os.path.join(folder, filename)\n",
    "\n",
    "        if not os.path.isfile(file_path):\n",
    "            continue\n",
    "        if file_suffix and not filename.endswith(file_suffix):\n",
    "            continue\n",
    "\n",
    "        replace_in_file(file_path, replacements)\n"
   ]
  },
  {
   "cell_type": "markdown",
   "id": "93560516",
   "metadata": {},
   "source": [
    "# Merge into multi-word phrase"
   ]
  },
  {
   "cell_type": "code",
   "execution_count": null,
   "id": "ab0e6f3a",
   "metadata": {},
   "outputs": [],
   "source": [
    "def merge_phrases(head_lemma, dep_lemma, file_path):\n",
    "    pattern = re.compile(\n",
    "        r'^([^\\t]+)\\t'      # wordform\n",
    "        r'([^\\t]+)\\t'       # lemma\n",
    "        r'([^\\t]+)\\t'       # POS\n",
    "        r'([^\\t]+)\\t'       # ID\n",
    "        r'([^\\t]+)\\t'       # HEAD\n",
    "        r'([^\\t]+)$'        # DEPREL\n",
    "    )\n",
    "\n",
    "    with open(file_path, 'r', encoding='utf-8') as f:\n",
    "        lines = f.readlines()\n",
    "\n",
    "    new_lines = []\n",
    "    sentence = []\n",
    "    in_sentence = False\n",
    "\n",
    "    for line in lines:\n",
    "        stripped = line.strip()\n",
    "        if stripped.startswith('<s id='):\n",
    "            sentence = [line]\n",
    "            in_sentence = True\n",
    "        elif stripped.startswith('</s>'):\n",
    "            sentence.append(line)\n",
    "\n",
    "            # Tách các dòng chứa token\n",
    "            tokens = [l.strip() for l in sentence if pattern.match(l)] # Get the line with the tokens\n",
    "            parsed = [pattern.match(l).groups() for l in tokens] # A list of tuples of individual tokens\n",
    "            # print(parsed)\n",
    "            id2token = {fields[3]: list(fields) for fields in parsed}  # A dictonary idx: [wordform, lemma, pos, id, head, deprel]\n",
    "            # print(id2token)\n",
    "            merged_heads = set() # Avoid merging multiple times with one head\n",
    "\n",
    "            for fields in parsed:\n",
    "                wordform, lemma, pos, idx, head, deprel = fields # Tuple unpacking\n",
    "                # Nếu đúng là dep lemma, và head tồn tại\n",
    "                if lemma == dep_lemma and head in id2token:\n",
    "                    print(head)\n",
    "                    head_fields = id2token[head]\n",
    "                    print(head_fields)\n",
    "                    head_wordform, head_lemma_ = head_fields[0], head_fields[1],\n",
    "                    if head_lemma_.lower() == head_lemma.lower() and head not in merged_heads:\n",
    "                        # Gộp lại\n",
    "                        merged_lemma = f\"{dep_lemma}_{head_lemma_}\"\n",
    "                        merged_token = f\"{dep_lemma}_{head_wordform}\"\n",
    "                        id2token[head][0] = merged_token\n",
    "                        id2token[head][1] = merged_lemma\n",
    "                        merged_heads.add(head)\n",
    "\n",
    "            # Ghi lại câu đã cập nhật\n",
    "            updated_sentence = []\n",
    "            for l in sentence:\n",
    "                m = pattern.match(l.strip())\n",
    "                if not m:\n",
    "                    updated_sentence.append(l)\n",
    "                    continue\n",
    "                wordform, lemma, pos, idx, head, deprel = m.groups()\n",
    "                if idx in id2token:\n",
    "                    wordform, lemma, _, _, _, _ = id2token[idx]\n",
    "                updated_sentence.append(f\"{wordform}\\t{lemma}\\t{pos}\\t{idx}\\t{head}\\t{deprel}\\n\")\n",
    "            new_lines.extend(updated_sentence)\n",
    "            in_sentence = False\n",
    "        elif in_sentence:\n",
    "            sentence.append(line)\n",
    "        else:\n",
    "            new_lines.append(line)\n",
    "\n",
    "    with open(file_path, 'w', encoding='utf-8') as f:\n",
    "        f.writelines(new_lines)\n"
   ]
  },
  {
   "cell_type": "code",
   "execution_count": null,
   "id": "16a2dcad",
   "metadata": {},
   "outputs": [],
   "source": [
    "for file in os.listdir(\"/home/volt/bach/pilot_data/RSC/1750-1800-che\"):\n",
    "    file_path = \"/home/volt/bach/pilot_data/RSC/1750-1800-che/\" + file\n",
    "    print(file_path)\n",
    "    merge_phrases(head_lemma=\"air\", dep_lemma=\"dephlogisticate\", file_path=file_path)\n",
    "\n",
    "# Merged Phrases:\n",
    "# phlogisticated air\n",
    "# dephlogisticated air"
   ]
  },
  {
   "cell_type": "code",
   "execution_count": null,
   "id": "41660036",
   "metadata": {},
   "outputs": [],
   "source": [
    "folder = \"/home/volt/bach/pilot_data/RSC/1750-1800_che\"\n",
    "\n",
    "for file in os.listdir(folder):\n",
    "    file_path = os.path.join(folder, file)\n",
    "\n",
    "    # Đảm bảo là file văn bản, nếu cần\n",
    "    if not os.path.isfile(file_path):\n",
    "        continue\n",
    "\n",
    "    with open(file_path, 'r', encoding='utf-8') as f:\n",
    "        content = f.read()\n",
    "\n",
    "    # Thay thế các cụm từ\n",
    "    content = content.replace(\"phlogisticated_air\", \"air\")\n",
    "\n",
    "    # Ghi đè lại\n",
    "    with open(file_path, 'w', encoding='utf-8') as f:\n",
    "        f.write(content)\n",
    "\n",
    "    print(f\"✓ Done: {file_path}\")"
   ]
  },
  {
   "cell_type": "markdown",
   "id": "44e98356",
   "metadata": {},
   "source": [
    "# Analysis"
   ]
  },
  {
   "cell_type": "markdown",
   "id": "2e0cc63e",
   "metadata": {},
   "source": [
    "## All slot\n",
    "\n",
    "1. Plot the distribution of argument slots in each period.\n",
    "2. Compute JSD on the distribution of slots"
   ]
  },
  {
   "cell_type": "code",
   "execution_count": 37,
   "id": "876e1dc2",
   "metadata": {},
   "outputs": [],
   "source": [
    "corpus_path = '/home/volt/bach/pilot_data/RSC/1750-1799_che'\n",
    "keyword_string = 'air\\tNOUN'\n",
    "fname_pattern = re.compile(\n",
    "    r'Royal_Society_Corpus_open_v6\\.0_text_(?P<id>\\d+)_(?P<year>\\d+)\\.txt$'\n",
    ")"
   ]
  },
  {
   "cell_type": "markdown",
   "id": "7d0afcb3",
   "metadata": {},
   "source": [
    "### Frequency changes"
   ]
  },
  {
   "cell_type": "code",
   "execution_count": 5,
   "id": "77662ce5",
   "metadata": {},
   "outputs": [
    {
     "name": "stdout",
     "output_type": "stream",
     "text": [
      "{1750: 241, 1755: 327, 1760: 124, 1765: 977, 1770: 1578, 1775: 1773, 1780: 2928, 1785: 2430, 1790: 1498, 1795: 340}\n"
     ]
    }
   ],
   "source": [
    "from SynFlow.SCD.Freq import count_keyword_tokens_by_period\n",
    "token_counts = count_keyword_tokens_by_period(corpus_path, keyword_string, pattern=fname_pattern, mode='half_decade')\n",
    "print(token_counts)"
   ]
  },
  {
   "cell_type": "code",
   "execution_count": 61,
   "id": "369f8987",
   "metadata": {},
   "outputs": [
    {
     "data": {
      "application/vnd.plotly.v1+json": {
       "config": {
        "plotlyServerURL": "https://plot.ly"
       },
       "data": [
        {
         "hovertemplate": "Slot Type=chi_case<br>Period=%{x}<br>Frequency=%{y}<extra></extra>",
         "legendgroup": "chi_case",
         "line": {
          "color": "#636efa",
          "dash": "solid"
         },
         "marker": {
          "symbol": "circle"
         },
         "mode": "lines+markers",
         "name": "chi_case",
         "orientation": "v",
         "showlegend": true,
         "type": "scatter",
         "x": [
          "1750",
          "1755",
          "1760",
          "1765",
          "1770",
          "1775",
          "1780",
          "1785",
          "1790",
          "1795"
         ],
         "xaxis": "x",
         "y": {
          "bdata": "cuWoceWo4T+IHt+Fg+jhPymllFJKKeU/w2c0uHHu4j8lE/H1YlPjP8bqfrWT5eI/RqLU2MMs4j883ZofFinjPwKi/pOr8uI/srGxsbGx4T8=",
          "dtype": "f8"
         },
         "yaxis": "y"
        },
        {
         "hovertemplate": "Slot Type=pa_nmod<br>Period=%{x}<br>Frequency=%{y}<extra></extra>",
         "legendgroup": "pa_nmod",
         "line": {
          "color": "#EF553B",
          "dash": "solid"
         },
         "marker": {
          "symbol": "circle"
         },
         "mode": "lines+markers",
         "name": "pa_nmod",
         "orientation": "v",
         "showlegend": true,
         "type": "scatter",
         "x": [
          "1750",
          "1755",
          "1760",
          "1765",
          "1770",
          "1775",
          "1780",
          "1785",
          "1790",
          "1795"
         ],
         "xaxis": "x",
         "y": {
          "bdata": "HiS+HSS+zT8mORHGZZLTPzrnnHPOOdc/iiGAZ2Xt1j+eMtQqjBDZP3of/qCZONg/9Tfodq2c2D+0VBKXjaDaPxKy8zMIiNo/lJOTk5OT0z8=",
          "dtype": "f8"
         },
         "yaxis": "y"
        },
        {
         "hovertemplate": "Slot Type=chi_amod<br>Period=%{x}<br>Frequency=%{y}<extra></extra>",
         "legendgroup": "chi_amod",
         "line": {
          "color": "#00cc96",
          "dash": "solid"
         },
         "marker": {
          "symbol": "circle"
         },
         "mode": "lines+markers",
         "name": "chi_amod",
         "orientation": "v",
         "showlegend": true,
         "type": "scatter",
         "x": [
          "1750",
          "1755",
          "1760",
          "1765",
          "1770",
          "1775",
          "1780",
          "1785",
          "1790",
          "1795"
         ],
         "xaxis": "x",
         "y": {
          "bdata": "m04Wm04Wyz8zyYkwLpPMP9daa6211so/hjHTuofa3j9NxNeLTQ3bPxzHcRzHcdw/YhaQLxKl5D/azZG0GfrjPyV/PKvXjeU/iIeHh4eH1z8=",
          "dtype": "f8"
         },
         "yaxis": "y"
        },
        {
         "hovertemplate": "Slot Type=chi_punct<br>Period=%{x}<br>Frequency=%{y}<extra></extra>",
         "legendgroup": "chi_punct",
         "line": {
          "color": "#ab63fa",
          "dash": "solid"
         },
         "marker": {
          "symbol": "circle"
         },
         "mode": "lines+markers",
         "name": "chi_punct",
         "orientation": "v",
         "showlegend": true,
         "type": "scatter",
         "x": [
          "1750",
          "1755",
          "1760",
          "1765",
          "1770",
          "1775",
          "1780",
          "1785",
          "1790",
          "1795"
         ],
         "xaxis": "x",
         "y": {
          "bdata": "GWh+GWh+yT9cnZGKudW5P+ecc84557w/hZM9BSzYtz9eqZ57N0G7P9MyIIU+q7Y/JzzT36DbtT+L0+xkH1W0Pz781lcbcLg/l5aWlpaWtj8=",
          "dtype": "f8"
         },
         "yaxis": "y"
        },
        {
         "hovertemplate": "Slot Type=chi_det<br>Period=%{x}<br>Frequency=%{y}<extra></extra>",
         "legendgroup": "chi_det",
         "line": {
          "color": "#FFA15A",
          "dash": "solid"
         },
         "marker": {
          "symbol": "circle"
         },
         "mode": "lines+markers",
         "name": "chi_det",
         "orientation": "v",
         "showlegend": true,
         "type": "scatter",
         "x": [
          "1750",
          "1755",
          "1760",
          "1765",
          "1770",
          "1775",
          "1780",
          "1785",
          "1790",
          "1795"
         ],
         "xaxis": "x",
         "y": {
          "bdata": "tqWktaWk5T/IAImnhgzgP0oppZRSSuk/8oZt/iU/3z+CcyxbC6nbP5Xz7dCdR+A/So09zALy2T8ovD3lQDTYP/FACir549k/6Ofn5+fn1z8=",
          "dtype": "f8"
         },
         "yaxis": "y"
        },
        {
         "hovertemplate": "Slot Type=pa_obl<br>Period=%{x}<br>Frequency=%{y}<extra></extra>",
         "legendgroup": "pa_obl",
         "line": {
          "color": "#19d3f3",
          "dash": "solid"
         },
         "marker": {
          "symbol": "circle"
         },
         "mode": "lines+markers",
         "name": "pa_obl",
         "orientation": "v",
         "showlegend": true,
         "type": "scatter",
         "x": [
          "1750",
          "1755",
          "1760",
          "1765",
          "1770",
          "1775",
          "1780",
          "1785",
          "1790",
          "1795"
         ],
         "xaxis": "x",
         "y": {
          "bdata": "0etC0etC0T/wwkH0+C7MPwAAAAAAANA/4z4QIh79yj9zpsNR9JPIPxysuOXNZsg/pr9Bt2vlxD8PCWv8Lh/EP1xfbcBhKsQ/PDw8PDw8zD8=",
          "dtype": "f8"
         },
         "yaxis": "y"
        },
        {
         "hovertemplate": "Slot Type=pa_nsubj<br>Period=%{x}<br>Frequency=%{y}<extra></extra>",
         "legendgroup": "pa_nsubj",
         "line": {
          "color": "#FF6692",
          "dash": "solid"
         },
         "marker": {
          "symbol": "circle"
         },
         "mode": "lines+markers",
         "name": "pa_nsubj",
         "orientation": "v",
         "showlegend": true,
         "type": "scatter",
         "x": [
          "1750",
          "1755",
          "1760",
          "1765",
          "1770",
          "1775",
          "1780",
          "1785",
          "1790",
          "1795"
         ],
         "xaxis": "x",
         "y": {
          "bdata": "HEaeG0aeuz9OhHGZ5ES4P6WUUkoppcQ/UD02Yf3pwz+JNa9Uz727P8GykiijLsE/uWQI1tHmvT+8PeVANPi6P183FtubGLg/GxsbGxsbuz8=",
          "dtype": "f8"
         },
         "yaxis": "y"
        },
        {
         "hovertemplate": "Slot Type=pa_obj<br>Period=%{x}<br>Frequency=%{y}<extra></extra>",
         "legendgroup": "pa_obj",
         "line": {
          "color": "#B6E880",
          "dash": "solid"
         },
         "marker": {
          "symbol": "circle"
         },
         "mode": "lines+markers",
         "name": "pa_obj",
         "orientation": "v",
         "showlegend": true,
         "type": "scatter",
         "x": [
          "1750",
          "1755",
          "1760",
          "1765",
          "1770",
          "1775",
          "1780",
          "1785",
          "1790",
          "1795"
         ],
         "xaxis": "x",
         "y": {
          "bdata": "IALeHwLerz/wwkH0+C6sP8YYY4wxxqg/sc2/5OebvT95H+M0Kb21Py8RjQtw2Lk/18oJz/Q3wD/Ubo6kzdC/P6qGjvugrbQ/GBgYGBgYqD8=",
          "dtype": "f8"
         },
         "yaxis": "y"
        }
       ],
       "layout": {
        "height": 500,
        "legend": {
         "title": {
          "text": "Slot Type"
         },
         "tracegroupgap": 0
        },
        "template": {
         "data": {
          "bar": [
           {
            "error_x": {
             "color": "#2a3f5f"
            },
            "error_y": {
             "color": "#2a3f5f"
            },
            "marker": {
             "line": {
              "color": "#E5ECF6",
              "width": 0.5
             },
             "pattern": {
              "fillmode": "overlay",
              "size": 10,
              "solidity": 0.2
             }
            },
            "type": "bar"
           }
          ],
          "barpolar": [
           {
            "marker": {
             "line": {
              "color": "#E5ECF6",
              "width": 0.5
             },
             "pattern": {
              "fillmode": "overlay",
              "size": 10,
              "solidity": 0.2
             }
            },
            "type": "barpolar"
           }
          ],
          "carpet": [
           {
            "aaxis": {
             "endlinecolor": "#2a3f5f",
             "gridcolor": "white",
             "linecolor": "white",
             "minorgridcolor": "white",
             "startlinecolor": "#2a3f5f"
            },
            "baxis": {
             "endlinecolor": "#2a3f5f",
             "gridcolor": "white",
             "linecolor": "white",
             "minorgridcolor": "white",
             "startlinecolor": "#2a3f5f"
            },
            "type": "carpet"
           }
          ],
          "choropleth": [
           {
            "colorbar": {
             "outlinewidth": 0,
             "ticks": ""
            },
            "type": "choropleth"
           }
          ],
          "contour": [
           {
            "colorbar": {
             "outlinewidth": 0,
             "ticks": ""
            },
            "colorscale": [
             [
              0,
              "#0d0887"
             ],
             [
              0.1111111111111111,
              "#46039f"
             ],
             [
              0.2222222222222222,
              "#7201a8"
             ],
             [
              0.3333333333333333,
              "#9c179e"
             ],
             [
              0.4444444444444444,
              "#bd3786"
             ],
             [
              0.5555555555555556,
              "#d8576b"
             ],
             [
              0.6666666666666666,
              "#ed7953"
             ],
             [
              0.7777777777777778,
              "#fb9f3a"
             ],
             [
              0.8888888888888888,
              "#fdca26"
             ],
             [
              1,
              "#f0f921"
             ]
            ],
            "type": "contour"
           }
          ],
          "contourcarpet": [
           {
            "colorbar": {
             "outlinewidth": 0,
             "ticks": ""
            },
            "type": "contourcarpet"
           }
          ],
          "heatmap": [
           {
            "colorbar": {
             "outlinewidth": 0,
             "ticks": ""
            },
            "colorscale": [
             [
              0,
              "#0d0887"
             ],
             [
              0.1111111111111111,
              "#46039f"
             ],
             [
              0.2222222222222222,
              "#7201a8"
             ],
             [
              0.3333333333333333,
              "#9c179e"
             ],
             [
              0.4444444444444444,
              "#bd3786"
             ],
             [
              0.5555555555555556,
              "#d8576b"
             ],
             [
              0.6666666666666666,
              "#ed7953"
             ],
             [
              0.7777777777777778,
              "#fb9f3a"
             ],
             [
              0.8888888888888888,
              "#fdca26"
             ],
             [
              1,
              "#f0f921"
             ]
            ],
            "type": "heatmap"
           }
          ],
          "histogram": [
           {
            "marker": {
             "pattern": {
              "fillmode": "overlay",
              "size": 10,
              "solidity": 0.2
             }
            },
            "type": "histogram"
           }
          ],
          "histogram2d": [
           {
            "colorbar": {
             "outlinewidth": 0,
             "ticks": ""
            },
            "colorscale": [
             [
              0,
              "#0d0887"
             ],
             [
              0.1111111111111111,
              "#46039f"
             ],
             [
              0.2222222222222222,
              "#7201a8"
             ],
             [
              0.3333333333333333,
              "#9c179e"
             ],
             [
              0.4444444444444444,
              "#bd3786"
             ],
             [
              0.5555555555555556,
              "#d8576b"
             ],
             [
              0.6666666666666666,
              "#ed7953"
             ],
             [
              0.7777777777777778,
              "#fb9f3a"
             ],
             [
              0.8888888888888888,
              "#fdca26"
             ],
             [
              1,
              "#f0f921"
             ]
            ],
            "type": "histogram2d"
           }
          ],
          "histogram2dcontour": [
           {
            "colorbar": {
             "outlinewidth": 0,
             "ticks": ""
            },
            "colorscale": [
             [
              0,
              "#0d0887"
             ],
             [
              0.1111111111111111,
              "#46039f"
             ],
             [
              0.2222222222222222,
              "#7201a8"
             ],
             [
              0.3333333333333333,
              "#9c179e"
             ],
             [
              0.4444444444444444,
              "#bd3786"
             ],
             [
              0.5555555555555556,
              "#d8576b"
             ],
             [
              0.6666666666666666,
              "#ed7953"
             ],
             [
              0.7777777777777778,
              "#fb9f3a"
             ],
             [
              0.8888888888888888,
              "#fdca26"
             ],
             [
              1,
              "#f0f921"
             ]
            ],
            "type": "histogram2dcontour"
           }
          ],
          "mesh3d": [
           {
            "colorbar": {
             "outlinewidth": 0,
             "ticks": ""
            },
            "type": "mesh3d"
           }
          ],
          "parcoords": [
           {
            "line": {
             "colorbar": {
              "outlinewidth": 0,
              "ticks": ""
             }
            },
            "type": "parcoords"
           }
          ],
          "pie": [
           {
            "automargin": true,
            "type": "pie"
           }
          ],
          "scatter": [
           {
            "fillpattern": {
             "fillmode": "overlay",
             "size": 10,
             "solidity": 0.2
            },
            "type": "scatter"
           }
          ],
          "scatter3d": [
           {
            "line": {
             "colorbar": {
              "outlinewidth": 0,
              "ticks": ""
             }
            },
            "marker": {
             "colorbar": {
              "outlinewidth": 0,
              "ticks": ""
             }
            },
            "type": "scatter3d"
           }
          ],
          "scattercarpet": [
           {
            "marker": {
             "colorbar": {
              "outlinewidth": 0,
              "ticks": ""
             }
            },
            "type": "scattercarpet"
           }
          ],
          "scattergeo": [
           {
            "marker": {
             "colorbar": {
              "outlinewidth": 0,
              "ticks": ""
             }
            },
            "type": "scattergeo"
           }
          ],
          "scattergl": [
           {
            "marker": {
             "colorbar": {
              "outlinewidth": 0,
              "ticks": ""
             }
            },
            "type": "scattergl"
           }
          ],
          "scattermap": [
           {
            "marker": {
             "colorbar": {
              "outlinewidth": 0,
              "ticks": ""
             }
            },
            "type": "scattermap"
           }
          ],
          "scattermapbox": [
           {
            "marker": {
             "colorbar": {
              "outlinewidth": 0,
              "ticks": ""
             }
            },
            "type": "scattermapbox"
           }
          ],
          "scatterpolar": [
           {
            "marker": {
             "colorbar": {
              "outlinewidth": 0,
              "ticks": ""
             }
            },
            "type": "scatterpolar"
           }
          ],
          "scatterpolargl": [
           {
            "marker": {
             "colorbar": {
              "outlinewidth": 0,
              "ticks": ""
             }
            },
            "type": "scatterpolargl"
           }
          ],
          "scatterternary": [
           {
            "marker": {
             "colorbar": {
              "outlinewidth": 0,
              "ticks": ""
             }
            },
            "type": "scatterternary"
           }
          ],
          "surface": [
           {
            "colorbar": {
             "outlinewidth": 0,
             "ticks": ""
            },
            "colorscale": [
             [
              0,
              "#0d0887"
             ],
             [
              0.1111111111111111,
              "#46039f"
             ],
             [
              0.2222222222222222,
              "#7201a8"
             ],
             [
              0.3333333333333333,
              "#9c179e"
             ],
             [
              0.4444444444444444,
              "#bd3786"
             ],
             [
              0.5555555555555556,
              "#d8576b"
             ],
             [
              0.6666666666666666,
              "#ed7953"
             ],
             [
              0.7777777777777778,
              "#fb9f3a"
             ],
             [
              0.8888888888888888,
              "#fdca26"
             ],
             [
              1,
              "#f0f921"
             ]
            ],
            "type": "surface"
           }
          ],
          "table": [
           {
            "cells": {
             "fill": {
              "color": "#EBF0F8"
             },
             "line": {
              "color": "white"
             }
            },
            "header": {
             "fill": {
              "color": "#C8D4E3"
             },
             "line": {
              "color": "white"
             }
            },
            "type": "table"
           }
          ]
         },
         "layout": {
          "annotationdefaults": {
           "arrowcolor": "#2a3f5f",
           "arrowhead": 0,
           "arrowwidth": 1
          },
          "autotypenumbers": "strict",
          "coloraxis": {
           "colorbar": {
            "outlinewidth": 0,
            "ticks": ""
           }
          },
          "colorscale": {
           "diverging": [
            [
             0,
             "#8e0152"
            ],
            [
             0.1,
             "#c51b7d"
            ],
            [
             0.2,
             "#de77ae"
            ],
            [
             0.3,
             "#f1b6da"
            ],
            [
             0.4,
             "#fde0ef"
            ],
            [
             0.5,
             "#f7f7f7"
            ],
            [
             0.6,
             "#e6f5d0"
            ],
            [
             0.7,
             "#b8e186"
            ],
            [
             0.8,
             "#7fbc41"
            ],
            [
             0.9,
             "#4d9221"
            ],
            [
             1,
             "#276419"
            ]
           ],
           "sequential": [
            [
             0,
             "#0d0887"
            ],
            [
             0.1111111111111111,
             "#46039f"
            ],
            [
             0.2222222222222222,
             "#7201a8"
            ],
            [
             0.3333333333333333,
             "#9c179e"
            ],
            [
             0.4444444444444444,
             "#bd3786"
            ],
            [
             0.5555555555555556,
             "#d8576b"
            ],
            [
             0.6666666666666666,
             "#ed7953"
            ],
            [
             0.7777777777777778,
             "#fb9f3a"
            ],
            [
             0.8888888888888888,
             "#fdca26"
            ],
            [
             1,
             "#f0f921"
            ]
           ],
           "sequentialminus": [
            [
             0,
             "#0d0887"
            ],
            [
             0.1111111111111111,
             "#46039f"
            ],
            [
             0.2222222222222222,
             "#7201a8"
            ],
            [
             0.3333333333333333,
             "#9c179e"
            ],
            [
             0.4444444444444444,
             "#bd3786"
            ],
            [
             0.5555555555555556,
             "#d8576b"
            ],
            [
             0.6666666666666666,
             "#ed7953"
            ],
            [
             0.7777777777777778,
             "#fb9f3a"
            ],
            [
             0.8888888888888888,
             "#fdca26"
            ],
            [
             1,
             "#f0f921"
            ]
           ]
          },
          "colorway": [
           "#636efa",
           "#EF553B",
           "#00cc96",
           "#ab63fa",
           "#FFA15A",
           "#19d3f3",
           "#FF6692",
           "#B6E880",
           "#FF97FF",
           "#FECB52"
          ],
          "font": {
           "color": "#2a3f5f"
          },
          "geo": {
           "bgcolor": "white",
           "lakecolor": "white",
           "landcolor": "#E5ECF6",
           "showlakes": true,
           "showland": true,
           "subunitcolor": "white"
          },
          "hoverlabel": {
           "align": "left"
          },
          "hovermode": "closest",
          "mapbox": {
           "style": "light"
          },
          "paper_bgcolor": "white",
          "plot_bgcolor": "#E5ECF6",
          "polar": {
           "angularaxis": {
            "gridcolor": "white",
            "linecolor": "white",
            "ticks": ""
           },
           "bgcolor": "#E5ECF6",
           "radialaxis": {
            "gridcolor": "white",
            "linecolor": "white",
            "ticks": ""
           }
          },
          "scene": {
           "xaxis": {
            "backgroundcolor": "#E5ECF6",
            "gridcolor": "white",
            "gridwidth": 2,
            "linecolor": "white",
            "showbackground": true,
            "ticks": "",
            "zerolinecolor": "white"
           },
           "yaxis": {
            "backgroundcolor": "#E5ECF6",
            "gridcolor": "white",
            "gridwidth": 2,
            "linecolor": "white",
            "showbackground": true,
            "ticks": "",
            "zerolinecolor": "white"
           },
           "zaxis": {
            "backgroundcolor": "#E5ECF6",
            "gridcolor": "white",
            "gridwidth": 2,
            "linecolor": "white",
            "showbackground": true,
            "ticks": "",
            "zerolinecolor": "white"
           }
          },
          "shapedefaults": {
           "line": {
            "color": "#2a3f5f"
           }
          },
          "ternary": {
           "aaxis": {
            "gridcolor": "white",
            "linecolor": "white",
            "ticks": ""
           },
           "baxis": {
            "gridcolor": "white",
            "linecolor": "white",
            "ticks": ""
           },
           "bgcolor": "#E5ECF6",
           "caxis": {
            "gridcolor": "white",
            "linecolor": "white",
            "ticks": ""
           }
          },
          "title": {
           "x": 0.05
          },
          "xaxis": {
           "automargin": true,
           "gridcolor": "white",
           "linecolor": "white",
           "ticks": "",
           "title": {
            "standoff": 15
           },
           "zerolinecolor": "white",
           "zerolinewidth": 2
          },
          "yaxis": {
           "automargin": true,
           "gridcolor": "white",
           "linecolor": "white",
           "ticks": "",
           "title": {
            "standoff": 15
           },
           "zerolinecolor": "white",
           "zerolinewidth": 2
          }
         }
        },
        "title": {
         "text": "Top-7 Slots Over Time (Normalized)"
        },
        "width": 1000,
        "xaxis": {
         "anchor": "y",
         "domain": [
          0,
          1
         ],
         "title": {
          "text": "Period"
         }
        },
        "yaxis": {
         "anchor": "x",
         "domain": [
          0,
          1
         ],
         "title": {
          "text": "Frequency per occurrence of target token "
         }
        }
       }
      }
     },
     "metadata": {},
     "output_type": "display_data"
    }
   ],
   "source": [
    "from SynFlow.SCD.Freq import plot_top_n_union_slots\n",
    "json_path = \"/home/volt/bach/pilot_data/RSC/air_arg_1750-1799_hd.json\"\n",
    "\n",
    "# plot_top_n_union_slots(\n",
    "#     json_path=json_path,\n",
    "#     top_n=7,\n",
    "#     normalized=False,\n",
    "#     token_counts=token_counts,\n",
    "#     chart_type=\"line\"\n",
    "# )\n",
    "\n",
    "plot_top_n_union_slots(\n",
    "    json_path=json_path,\n",
    "    top_n=7,\n",
    "    normalized=True,\n",
    "    token_counts=token_counts,\n",
    "    chart_type=\"line\"\n",
    ")\n"
   ]
  },
  {
   "cell_type": "code",
   "execution_count": 11,
   "id": "20411400",
   "metadata": {},
   "outputs": [],
   "source": [
    "def slot_change_scores(json_path, token_counts):\n",
    "    '''\n",
    "    Return the ranking of the top changing slots across periods\n",
    "\n",
    "    Parameters:\n",
    "        json_path (str): Path to JSON with slot counts per period.\n",
    "        token_counts (dict): {period: token count} for normalisation\n",
    "    \n",
    "    Returns:\n",
    "        dict: {slot: change_score}\n",
    "    '''\n",
    "    # Read json file\n",
    "    with open(json_path, \"r\") as f:\n",
    "        data = json.load(f)\n",
    "\n",
    "    # Load into DataFrame\n",
    "    df = pd.DataFrame.from_dict(data, orient=\"index\").fillna(0).astype(float)\n",
    "\n",
    "    # # Normalised by the number of token counts in that period\n",
    "    if token_counts is None:\n",
    "        raise ValueError(\"token_counts must be provided when normalized=True\")\n",
    "    token_counts_str = {str(k).replace(\"_\", \"-\"): v for k, v in token_counts.items()}\n",
    "\n",
    "    missing = set(df.index) - set(token_counts_str.keys())\n",
    "    if missing:\n",
    "        raise ValueError(f\"Missing document counts for: {missing}\")\n",
    "    for period in df.index:\n",
    "        df.loc[period] /= token_counts_str[period]\n",
    "\n",
    "    # Take row n and subtract row n-1 and convert into positive\n",
    "    df_diff = df.diff(axis=0).fillna(0).abs()\n",
    "\n",
    "    # Culmulative Change\n",
    "    # Sum over all rows and sort\n",
    "    df_diff_sum = df_diff.sum(axis=0).sort_values(ascending=False)\n",
    "\n",
    "    # Max single-period change\n",
    "    max_change = df_diff.max(axis=0).sort_values(ascending=False)\n",
    "\n",
    "    # Compute range (max - min) over all periods\n",
    "    df_range = (df.max(axis=0) - df.min(axis=0)).sort_values(ascending=False)\n",
    "\n",
    "    # Standard deviation\n",
    "    std_change = df.std(axis=0).sort_values(ascending=False)\n",
    "\n",
    "    return df_diff_sum, max_change, df_range, std_change"
   ]
  },
  {
   "cell_type": "code",
   "execution_count": null,
   "id": "043f43bc",
   "metadata": {},
   "outputs": [],
   "source": [
    "df_diff_sum, max_change, df_range, std_change = slot_change_scores(json_path=json_path, token_counts=token_counts)\n",
    "print(df_diff_sum)\n",
    "print('-' * 100)\n",
    "print(max_change)\n",
    "print('-' * 100)\n",
    "print(df_range)\n",
    "print('-' * 100)\n",
    "print(std_change)"
   ]
  },
  {
   "cell_type": "markdown",
   "id": "2c28de2b",
   "metadata": {},
   "source": [
    "### Slots JSD"
   ]
  },
  {
   "cell_type": "code",
   "execution_count": 41,
   "id": "029be18f",
   "metadata": {},
   "outputs": [
    {
     "name": "stdout",
     "output_type": "stream",
     "text": [
      "\n",
      "=== Shift to period 1755 ===\n",
      "Jensen-Shannon Divergence: 0.0139\n",
      "Top shifted items:\n",
      "  in_pa_nmod: 0.0032\n",
      "  de_chi_punct: 0.0031\n",
      "  de_chi_nmod: 0.0025\n",
      "  de_chi_det: 0.0012\n",
      "  in_chi_conj: 0.0009\n",
      "  de_chi_acl:relcl: 0.0009\n",
      "  in_chi_case: 0.0008\n",
      "  in_chi_amod: 0.0005\n",
      "  in_pa_compound: 0.0005\n",
      "  de_pa_nsubj:pass: 0.0002\n",
      "\n",
      "=== Shift to period 1760 ===\n",
      "Jensen-Shannon Divergence: 0.0138\n",
      "Top shifted items:\n",
      "  de_pa_nsubj:pass: 0.0034\n",
      "  de_pa_compound: 0.0034\n",
      "  in_chi_det: 0.0025\n",
      "  de_chi_amod: 0.0012\n",
      "  in_chi_acl:relcl: 0.0010\n",
      "  in_pa_nsubj: 0.0009\n",
      "  de_pa_obj: 0.0004\n",
      "  in_chi_acl: 0.0003\n",
      "  in_chi_nmod: 0.0003\n",
      "  in_chi_conj: 0.0002\n",
      "\n",
      "=== Shift to period 1765 ===\n",
      "Jensen-Shannon Divergence: 0.0361\n",
      "Top shifted items:\n",
      "  in_chi_amod: 0.0144\n",
      "  de_chi_det: 0.0085\n",
      "  in_pa_nsubj:pass: 0.0046\n",
      "  in_pa_obj: 0.0037\n",
      "  in_chi_acl: 0.0019\n",
      "  de_pa_compound: 0.0009\n",
      "  de_chi_conj: 0.0008\n",
      "  de_chi_case: 0.0004\n",
      "  de_pa_obl: 0.0003\n",
      "  de_chi_acl:relcl: 0.0002\n",
      "\n",
      "=== Shift to period 1770 ===\n",
      "Jensen-Shannon Divergence: 0.0073\n",
      "Top shifted items:\n",
      "  in_chi_acl:relcl: 0.0020\n",
      "  de_chi_acl: 0.0013\n",
      "  de_pa_nsubj: 0.0008\n",
      "  de_chi_nmod: 0.0006\n",
      "  in_pa_nsubj:pass: 0.0006\n",
      "  in_pa_nmod: 0.0005\n",
      "  de_pa_obj: 0.0004\n",
      "  in_chi_punct: 0.0002\n",
      "  in_chi_case: 0.0002\n",
      "  in_chi_conj: 0.0002\n",
      "\n",
      "=== Shift to period 1775 ===\n",
      "Jensen-Shannon Divergence: 0.0040\n",
      "Top shifted items:\n",
      "  in_chi_nmod: 0.0013\n",
      "  de_chi_acl:relcl: 0.0010\n",
      "  in_chi_det: 0.0005\n",
      "  de_chi_punct: 0.0003\n",
      "  in_pa_nsubj: 0.0002\n",
      "  de_pa_nsubj:pass: 0.0002\n",
      "  de_chi_case: 0.0001\n",
      "  de_pa_nmod: 0.0001\n",
      "  in_pa_obj: 0.0001\n",
      "  in_chi_conj: 0.0000\n",
      "\n",
      "=== Shift to period 1780 ===\n",
      "Jensen-Shannon Divergence: 0.0077\n",
      "Top shifted items:\n",
      "  in_chi_amod: 0.0042\n",
      "  de_chi_det: 0.0018\n",
      "  de_pa_obl: 0.0003\n",
      "  in_pa_obj: 0.0003\n",
      "  in_pa_nsubj:pass: 0.0003\n",
      "  de_chi_nmod: 0.0002\n",
      "  de_pa_nsubj: 0.0002\n",
      "  de_chi_case: 0.0001\n",
      "  de_pa_compound: 0.0001\n",
      "  de_chi_acl:relcl: 0.0001\n",
      "\n",
      "=== Shift to period 1785 ===\n",
      "Jensen-Shannon Divergence: 0.0009\n",
      "Top shifted items:\n",
      "  in_pa_nmod: 0.0002\n",
      "  de_pa_nsubj:pass: 0.0002\n",
      "  in_chi_case: 0.0001\n",
      "  in_chi_acl:relcl: 0.0001\n",
      "  de_chi_det: 0.0001\n",
      "  de_pa_nsubj: 0.0001\n",
      "  de_chi_amod: 0.0000\n",
      "  in_chi_conj: 0.0000\n",
      "  de_chi_punct: 0.0000\n",
      "  de_chi_acl: 0.0000\n",
      "\n",
      "=== Shift to period 1790 ===\n",
      "Jensen-Shannon Divergence: 0.0026\n",
      "Top shifted items:\n",
      "  de_pa_obj: 0.0013\n",
      "  in_chi_conj: 0.0006\n",
      "  in_chi_punct: 0.0001\n",
      "  in_chi_amod: 0.0001\n",
      "  de_pa_nsubj: 0.0001\n",
      "  in_chi_acl: 0.0001\n",
      "  in_pa_compound: 0.0001\n",
      "  de_chi_nmod: 0.0001\n",
      "  in_chi_det: 0.0001\n",
      "  de_chi_case: 0.0000\n",
      "\n",
      "=== Shift to period 1795 ===\n",
      "Jensen-Shannon Divergence: 0.0166\n",
      "Top shifted items:\n",
      "  de_chi_amod: 0.0057\n",
      "  in_pa_obl: 0.0036\n",
      "  in_pa_compound: 0.0023\n",
      "  de_chi_acl: 0.0016\n",
      "  in_pa_nsubj: 0.0007\n",
      "  in_chi_case: 0.0006\n",
      "  de_chi_acl:relcl: 0.0005\n",
      "  de_pa_obj: 0.0005\n",
      "  in_chi_det: 0.0004\n",
      "  de_pa_nmod: 0.0003\n"
     ]
    }
   ],
   "source": [
    "from SynFlow.SCD.JSD import slots_js_shift_by_period\n",
    "slots_js_results = slots_js_shift_by_period(\n",
    "    json_path=json_path,\n",
    "    top_n=10,\n",
    "    min_count=0\n",
    ")\n",
    "\n",
    "print_js_shifts(slots_js_results)"
   ]
  },
  {
   "cell_type": "code",
   "execution_count": 39,
   "id": "58d63c4e",
   "metadata": {},
   "outputs": [
    {
     "data": {
      "image/png": "[encoded data removed]",
      "text/plain": [
       "<Figure size 800x500 with 1 Axes>"
      ]
     },
     "metadata": {},
     "output_type": "display_data"
    }
   ],
   "source": [
    "plot_jsd_over_time(slots_js_results)"
   ]
  },
  {
   "cell_type": "code",
   "execution_count": 49,
   "id": "c047b063",
   "metadata": {},
   "outputs": [
    {
     "data": {
      "image/png": "[encoded data removed]",
      "text/plain": [
       "<Figure size 1500x1200 with 9 Axes>"
      ]
     },
     "metadata": {},
     "output_type": "display_data"
    }
   ],
   "source": [
    "plot_all_jsd_shifts(slots_js_results, top_n=7, cols=3)"
   ]
  },
  {
   "cell_type": "markdown",
   "id": "862ffa69",
   "metadata": {},
   "source": [
    "## One specific slot"
   ]
  },
  {
   "cell_type": "markdown",
   "id": "f0c2ce6c",
   "metadata": {},
   "source": [
    "### Adjective and Determiner of air\n",
    "1. See the shift in the distribution of the adjective that comes with air\n",
    "2. Merge phlogisticated and dephlogisticated with air\n",
    "    * See the shift in the distribution of phlogistcated air and dephlogisticated air\n",
    "    * Compare that with the distribution of oxygen and nitrogen"
   ]
  },
  {
   "cell_type": "code",
   "execution_count": 8,
   "id": "5cb13fa9",
   "metadata": {},
   "outputs": [],
   "source": [
    "fname_df_pattern = re.compile(\n",
    "    rf'air/Royal_Society_Corpus_open_v6\\.0_text_'   # fixed prefix\n",
    "    rf'(?P<id>\\d+)_'                            # capture numeric ID\n",
    "    rf'(?P<year>\\d+)'                           # capture year\n",
    "    rf'.txt/\\d+$'             #  and extension and line number\n",
    ")"
   ]
  },
  {
   "cell_type": "markdown",
   "id": "08e88e46",
   "metadata": {},
   "source": [
    "#### Preprocessing\n",
    "\n",
    "This step is unique to the type of data we're working with. Make sure that the time column is in integer."
   ]
  },
  {
   "cell_type": "code",
   "execution_count": 9,
   "id": "81bf2681",
   "metadata": {},
   "outputs": [],
   "source": [
    "# Process the adjective dataframe\n",
    "def process_air_slot_csv(slot_type, input_path, output_path):\n",
    "    \"\"\"\n",
    "    Process a CSV file to:\n",
    "    - Unpack list values in 'chi_amod' column into separate rows\n",
    "    - Extract year from 'id' column using regex\n",
    "    - Compute 'decade' (e.g. 1750, 1760) and 'half_decade' (e.g. 1750–1754, 1755–1759)\n",
    "    - Only keep rows from 1750–1799\n",
    "    - Write the cleaned result to a new CSV\n",
    "    \"\"\"\n",
    "\n",
    "    # Read CSV\n",
    "    df = pd.read_csv(input_path)\n",
    "\n",
    "    # Ensure slot_type is a list (assumes it's stored as a string representation)\n",
    "    df[slot_type] = df[slot_type].apply(eval)\n",
    "\n",
    "    # Explode lists into separate rows\n",
    "    df = df.explode(slot_type).reset_index(drop=True)\n",
    "\n",
    "    # Compile regex to extract year\n",
    "    pattern = re.compile(\n",
    "        r'air/Royal_Society_Corpus_open_v6\\.0_text_'\n",
    "        r'(?P<id>\\d+)_'\n",
    "        r'(?P<year>\\d+)\\.txt/\\d+$'\n",
    "    )\n",
    "\n",
    "    # Extract year, decade, half-decade\n",
    "    def extract_time_info(id_string):\n",
    "        match = pattern.match(id_string)\n",
    "        if match:\n",
    "            year = int(match.group(\"year\"))\n",
    "            if 1750 <= year < 1800:\n",
    "                decade = year - (year % 10)\n",
    "                half = f\"{year - (year % 5)}–{year - (year % 5) + 4}\"\n",
    "                return pd.Series([year, decade, half])\n",
    "        return pd.Series([None, None, None])\n",
    "\n",
    "    df[[\"year\", \"decade\", \"half_decade\"]] = df[\"id\"].apply(extract_time_info)\n",
    "    # Extract start year from half_decade\n",
    "    df[\"half_decade\"] = df[\"half_decade\"].str.extract(r\"(\\d{4})\").astype(float).astype(\"Int64\")\n",
    "\n",
    "\n",
    "    # Drop rows outside 1750–1799\n",
    "    df = df[df[\"decade\"].notnull()]\n",
    "\n",
    "    # Save cleaned file\n",
    "    df.to_csv(output_path, index=False)"
   ]
  },
  {
   "cell_type": "code",
   "execution_count": null,
   "id": "4e844cfc",
   "metadata": {},
   "outputs": [],
   "source": [
    "air_adj_df = '/home/volt/bach/SynFlow/input/SCD/air_adj_1750-1799.csv' \n",
    "air_det_df = '/home/volt/bach/SynFlow/input/SCD/air_det_1750-1799.csv'\n",
    "air_case_df = '/home/volt/bach/SynFlow/input/SCD/air_case_1750-1799.csv'\n",
    "air_nmod_df = '/home/volt/bach/SynFlow/input/SCD/air_nmod_1750-1799.csv'\n",
    "process_air_slot_csv('pa_nmod', '/home/volt/bach/SynFlow/output/air-N-1750-1799/Embedding/air_samples_all_slots.csv',\n",
    "                     air_nmod_df)"
   ]
  },
  {
   "cell_type": "code",
   "execution_count": 78,
   "id": "9ea77a62",
   "metadata": {},
   "outputs": [
    {
     "name": "stdout",
     "output_type": "stream",
     "text": [
      "✓ Done: /home/volt/bach/SynFlow/input/SCD/air_adj_1750-1799.csv\n"
     ]
    }
   ],
   "source": [
    "# Replace the V/A and some misspellings\n",
    "replacements = {\n",
    "    \"dephlogisticate/V\": \"dephlogisticated/A\",\n",
    "    \"phlogisticate/V\": \"phlogisticated/A\",\n",
    "    'plllogisticate/V': 'phlogisticated/A',\n",
    "    'deplllogisticate/V': 'dephlogisticated/A',\n",
    "    'gisticate/V': 'phlogisticated/A',\n",
    "    'Open/A': 'open/A',\n",
    "}\n",
    "\n",
    "replace_in_file(\n",
    "    file_path=air_adj_df,\n",
    "    replacements=replacements\n",
    "    )"
   ]
  },
  {
   "cell_type": "markdown",
   "id": "92389408",
   "metadata": {},
   "source": [
    "#### Frequency Changes"
   ]
  },
  {
   "cell_type": "code",
   "execution_count": 12,
   "id": "567dcd1d",
   "metadata": {},
   "outputs": [],
   "source": [
    "from SynFlow.SCD.Freq import plot_top_slot_fillers_by_period"
   ]
  },
  {
   "cell_type": "code",
   "execution_count": 62,
   "id": "e428fa08",
   "metadata": {},
   "outputs": [
    {
     "data": {
      "application/vnd.plotly.v1+json": {
       "config": {
        "plotlyServerURL": "https://plot.ly"
       },
       "data": [
        {
         "hovertemplate": "chi_det=a/D<br>half_decade=%{x}<br>Frequency per occurrence of target token=%{y}<extra></extra>",
         "legendgroup": "a/D",
         "line": {
          "color": "#390062",
          "dash": "solid"
         },
         "marker": {
          "symbol": "circle"
         },
         "mode": "lines+markers",
         "name": "a/D",
         "orientation": "v",
         "showlegend": true,
         "type": "scatter",
         "x": {
          "bdata": "1gbbBuAG5QbqBu8G9Ab5Bv4GAwc=",
          "dtype": "i2"
         },
         "xaxis": "x",
         "y": {
          "bdata": "n6lcd7zYoj+7ErUrUbuSPxX44uoHHYU/Hh4eHh4ejj++lle/yxKOPyoSoCIBKpI/Joe4yhQwjz9BuLzs8N2BP/XW1J0Hxpw/CAQCgUAggD8=",
          "dtype": "f8"
         },
         "yaxis": "y"
        },
        {
         "hovertemplate": "chi_det=no/D<br>half_decade=%{x}<br>Frequency per occurrence of target token=%{y}<extra></extra>",
         "legendgroup": "no/D",
         "line": {
          "color": "#477183",
          "dash": "solid"
         },
         "marker": {
          "symbol": "circle"
         },
         "mode": "lines+markers",
         "name": "no/D",
         "orientation": "v",
         "showlegend": true,
         "type": "scatter",
         "x": {
          "bdata": "1gbbBuUG6gbvBvQG+Qb+BgMH",
          "dtype": "i2"
         },
         "xaxis": "x",
         "y": {
          "bdata": "KeLQSfsgeT+7ErUrUbuSPx4eHh4eHo4/y6vfZQkPeD+1FkhrgbR2P4qezu215KA/+waLViIxoD+QnOZr9eyQPwgEAoFAIIA/",
          "dtype": "f8"
         },
         "yaxis": "y"
        },
        {
         "hovertemplate": "chi_det=that/D<br>half_decade=%{x}<br>Frequency per occurrence of target token=%{y}<extra></extra>",
         "legendgroup": "that/D",
         "line": {
          "color": "#2c833f",
          "dash": "solid"
         },
         "marker": {
          "symbol": "circle"
         },
         "mode": "lines+markers",
         "name": "that/D",
         "orientation": "v",
         "showlegend": true,
         "type": "scatter",
         "x": {
          "bdata": "1gbbBuUG6gbvBvQG+Qb+BgMH",
          "dtype": "i2"
         },
         "xaxis": "x",
         "y": {
          "bdata": "KeLQSfsgiT/6GJyPwfmYPxOBXBOBXJM/vpZXv8sSnj9iHBrGoWGcPzeAqBXSdZA/YRQbY+nMij/mYNffuxSLPwgEAoFAIIA/",
          "dtype": "f8"
         },
         "yaxis": "y"
        },
        {
         "hovertemplate": "chi_det=the/D<br>half_decade=%{x}<br>Frequency per occurrence of target token=%{y}<extra></extra>",
         "legendgroup": "the/D",
         "line": {
          "color": "#d80623",
          "dash": "solid"
         },
         "marker": {
          "symbol": "circle"
         },
         "mode": "lines+markers",
         "name": "the/D",
         "orientation": "v",
         "showlegend": true,
         "type": "scatter",
         "x": {
          "bdata": "1gbbBuAG5QbqBu8G9Ab5Bv4GAwc=",
          "dtype": "i2"
         },
         "xaxis": "x",
         "y": {
          "bdata": "Va47XmwJ7j/blahdidrtP19c/aCjAu8/gxU6gxU66z/qQp5jn5jqP0hrgbQWSOs/Y3W/2sly6T/oOjmnxUzpP6gPl1flSus/j8fj8Xg87j8=",
          "dtype": "f8"
         },
         "yaxis": "y"
        },
        {
         "hovertemplate": "chi_det=this/D<br>half_decade=%{x}<br>Frequency per occurrence of target token=%{y}<extra></extra>",
         "legendgroup": "this/D",
         "line": {
          "color": "#1045d1",
          "dash": "solid"
         },
         "marker": {
          "symbol": "circle"
         },
         "mode": "lines+markers",
         "name": "this/D",
         "orientation": "v",
         "showlegend": true,
         "type": "scatter",
         "x": {
          "bdata": "1gblBuoG7wb0BvkG/gYDBw==",
          "dtype": "i2"
         },
         "xaxis": "x",
         "y": {
          "bdata": "KeLQSfsgeT+QayKQayKwP9knpta9L7k/ARUJUJEAtT+qCFRi02iyPwyEy8sO370/l1flSpvFsT8MBoPBYDCYPw==",
          "dtype": "f8"
         },
         "yaxis": "y"
        },
        {
         "hovertemplate": "chi_det=which/D<br>half_decade=%{x}<br>Frequency per occurrence of target token=%{y}<extra></extra>",
         "legendgroup": "which/D",
         "line": {
          "color": "#2ff8d2",
          "dash": "solid"
         },
         "marker": {
          "symbol": "circle"
         },
         "mode": "lines+markers",
         "name": "which/D",
         "orientation": "v",
         "showlegend": true,
         "type": "scatter",
         "x": {
          "bdata": "2wblBuoG7wb0Bv4G",
          "dtype": "i2"
         },
         "xaxis": "x",
         "y": {
          "bdata": "+hicj8H5eD8RyDURyDVxP9nAZwxHC3I/KhKgIgEqYj9uryWHuMpkP62I4eeMT3Q/",
          "dtype": "f8"
         },
         "yaxis": "y"
        },
        {
         "hovertemplate": "chi_det=any/D<br>half_decade=%{x}<br>Frequency per occurrence of target token=%{y}<extra></extra>",
         "legendgroup": "any/D",
         "line": {
          "color": "#8cd0a4",
          "dash": "solid"
         },
         "marker": {
          "symbol": "circle"
         },
         "mode": "lines+markers",
         "name": "any/D",
         "orientation": "v",
         "showlegend": true,
         "type": "scatter",
         "x": {
          "bdata": "4AblBuoG7wb0BvkG/gYDBw==",
          "dtype": "i2"
         },
         "xaxis": "x",
         "y": {
          "bdata": "Ffji6gcdlT8Y86kX86mXP8ur32UJD2g/KhKgIgEqgj+TlIcJ9ribP3FCSp5lRI8/rYjh54xPdD8IBAKBQCCAPw==",
          "dtype": "f8"
         },
         "yaxis": "y"
        },
        {
         "hovertemplate": "chi_det=some/D<br>half_decade=%{x}<br>Frequency per occurrence of target token=%{y}<extra></extra>",
         "legendgroup": "some/D",
         "line": {
          "color": "#347a3f",
          "dash": "solid"
         },
         "marker": {
          "symbol": "circle"
         },
         "mode": "lines+markers",
         "name": "some/D",
         "orientation": "v",
         "showlegend": true,
         "type": "scatter",
         "x": {
          "bdata": "5QbqBu8G9Ab5Bv4G",
          "dtype": "i2"
         },
         "xaxis": "x",
         "y": {
          "bdata": "FjqDFTqDhT++lle/yxJ+Pz8b8LMBP2s/JTaNJikPkz9xQkqeZUSPP+Zg19+7FHs/",
          "dtype": "f8"
         },
         "yaxis": "y"
        },
        {
         "hovertemplate": "chi_det=all/D<br>half_decade=%{x}<br>Frequency per occurrence of target token=%{y}<extra></extra>",
         "legendgroup": "all/D",
         "line": {
          "color": "#0cce35",
          "dash": "solid"
         },
         "marker": {
          "symbol": "circle"
         },
         "mode": "lines+markers",
         "name": "all/D",
         "orientation": "v",
         "showlegend": true,
         "type": "scatter",
         "x": {
          "bdata": "6gb0BvkG/gY=",
          "dtype": "i2"
         },
         "xaxis": "x",
         "y": {
          "bdata": "y6vfZQkPaD+TlIcJ9rh7P2EUG2PpzHo/5mDX37sUaz8=",
          "dtype": "f8"
         },
         "yaxis": "y"
        },
        {
         "hovertemplate": "chi_det=neither/D<br>half_decade=%{x}<br>Frequency per occurrence of target token=%{y}<extra></extra>",
         "legendgroup": "neither/D",
         "line": {
          "color": "#7248ad",
          "dash": "solid"
         },
         "marker": {
          "symbol": "circle"
         },
         "mode": "lines+markers",
         "name": "neither/D",
         "orientation": "v",
         "showlegend": true,
         "type": "scatter",
         "x": {
          "bdata": "6gY=",
          "dtype": "i2"
         },
         "xaxis": "x",
         "y": {
          "bdata": "y6vfZQkPaD8=",
          "dtype": "f8"
         },
         "yaxis": "y"
        },
        {
         "hovertemplate": "chi_det=what/D<br>half_decade=%{x}<br>Frequency per occurrence of target token=%{y}<extra></extra>",
         "legendgroup": "what/D",
         "line": {
          "color": "#0f4194",
          "dash": "solid"
         },
         "marker": {
          "symbol": "circle"
         },
         "mode": "lines+markers",
         "name": "what/D",
         "orientation": "v",
         "showlegend": true,
         "type": "scatter",
         "x": {
          "bdata": "6gb0BvkG",
          "dtype": "i2"
         },
         "xaxis": "x",
         "y": {
          "bdata": "y6vfZQkPWD+TlIcJ9rhLP0G4vOzw3VE/",
          "dtype": "f8"
         },
         "yaxis": "y"
        },
        {
         "hovertemplate": "chi_det=both/D<br>half_decade=%{x}<br>Frequency per occurrence of target token=%{y}<extra></extra>",
         "legendgroup": "both/D",
         "line": {
          "color": "#7d6277",
          "dash": "solid"
         },
         "marker": {
          "symbol": "circle"
         },
         "mode": "lines+markers",
         "name": "both/D",
         "orientation": "v",
         "showlegend": true,
         "type": "scatter",
         "x": {
          "bdata": "9Ab5Bg==",
          "dtype": "i2"
         },
         "xaxis": "x",
         "y": {
          "bdata": "ShvvqGb9iT9BuLzs8N1RPw==",
          "dtype": "f8"
         },
         "yaxis": "y"
        },
        {
         "hovertemplate": "chi_det=wthe/D<br>half_decade=%{x}<br>Frequency per occurrence of target token=%{y}<extra></extra>",
         "legendgroup": "wthe/D",
         "line": {
          "color": "#6ff151",
          "dash": "solid"
         },
         "marker": {
          "symbol": "circle"
         },
         "mode": "lines+markers",
         "name": "wthe/D",
         "orientation": "v",
         "showlegend": true,
         "type": "scatter",
         "x": {
          "bdata": "/gY=",
          "dtype": "i2"
         },
         "xaxis": "x",
         "y": {
          "bdata": "5mDX37sUWz8=",
          "dtype": "f8"
         },
         "yaxis": "y"
        }
       ],
       "layout": {
        "height": 500,
        "hovermode": "x unified",
        "legend": {
         "title": {
          "text": "chi_det"
         },
         "tracegroupgap": 0
        },
        "template": {
         "data": {
          "bar": [
           {
            "error_x": {
             "color": "#2a3f5f"
            },
            "error_y": {
             "color": "#2a3f5f"
            },
            "marker": {
             "line": {
              "color": "#E5ECF6",
              "width": 0.5
             },
             "pattern": {
              "fillmode": "overlay",
              "size": 10,
              "solidity": 0.2
             }
            },
            "type": "bar"
           }
          ],
          "barpolar": [
           {
            "marker": {
             "line": {
              "color": "#E5ECF6",
              "width": 0.5
             },
             "pattern": {
              "fillmode": "overlay",
              "size": 10,
              "solidity": 0.2
             }
            },
            "type": "barpolar"
           }
          ],
          "carpet": [
           {
            "aaxis": {
             "endlinecolor": "#2a3f5f",
             "gridcolor": "white",
             "linecolor": "white",
             "minorgridcolor": "white",
             "startlinecolor": "#2a3f5f"
            },
            "baxis": {
             "endlinecolor": "#2a3f5f",
             "gridcolor": "white",
             "linecolor": "white",
             "minorgridcolor": "white",
             "startlinecolor": "#2a3f5f"
            },
            "type": "carpet"
           }
          ],
          "choropleth": [
           {
            "colorbar": {
             "outlinewidth": 0,
             "ticks": ""
            },
            "type": "choropleth"
           }
          ],
          "contour": [
           {
            "colorbar": {
             "outlinewidth": 0,
             "ticks": ""
            },
            "colorscale": [
             [
              0,
              "#0d0887"
             ],
             [
              0.1111111111111111,
              "#46039f"
             ],
             [
              0.2222222222222222,
              "#7201a8"
             ],
             [
              0.3333333333333333,
              "#9c179e"
             ],
             [
              0.4444444444444444,
              "#bd3786"
             ],
             [
              0.5555555555555556,
              "#d8576b"
             ],
             [
              0.6666666666666666,
              "#ed7953"
             ],
             [
              0.7777777777777778,
              "#fb9f3a"
             ],
             [
              0.8888888888888888,
              "#fdca26"
             ],
             [
              1,
              "#f0f921"
             ]
            ],
            "type": "contour"
           }
          ],
          "contourcarpet": [
           {
            "colorbar": {
             "outlinewidth": 0,
             "ticks": ""
            },
            "type": "contourcarpet"
           }
          ],
          "heatmap": [
           {
            "colorbar": {
             "outlinewidth": 0,
             "ticks": ""
            },
            "colorscale": [
             [
              0,
              "#0d0887"
             ],
             [
              0.1111111111111111,
              "#46039f"
             ],
             [
              0.2222222222222222,
              "#7201a8"
             ],
             [
              0.3333333333333333,
              "#9c179e"
             ],
             [
              0.4444444444444444,
              "#bd3786"
             ],
             [
              0.5555555555555556,
              "#d8576b"
             ],
             [
              0.6666666666666666,
              "#ed7953"
             ],
             [
              0.7777777777777778,
              "#fb9f3a"
             ],
             [
              0.8888888888888888,
              "#fdca26"
             ],
             [
              1,
              "#f0f921"
             ]
            ],
            "type": "heatmap"
           }
          ],
          "histogram": [
           {
            "marker": {
             "pattern": {
              "fillmode": "overlay",
              "size": 10,
              "solidity": 0.2
             }
            },
            "type": "histogram"
           }
          ],
          "histogram2d": [
           {
            "colorbar": {
             "outlinewidth": 0,
             "ticks": ""
            },
            "colorscale": [
             [
              0,
              "#0d0887"
             ],
             [
              0.1111111111111111,
              "#46039f"
             ],
             [
              0.2222222222222222,
              "#7201a8"
             ],
             [
              0.3333333333333333,
              "#9c179e"
             ],
             [
              0.4444444444444444,
              "#bd3786"
             ],
             [
              0.5555555555555556,
              "#d8576b"
             ],
             [
              0.6666666666666666,
              "#ed7953"
             ],
             [
              0.7777777777777778,
              "#fb9f3a"
             ],
             [
              0.8888888888888888,
              "#fdca26"
             ],
             [
              1,
              "#f0f921"
             ]
            ],
            "type": "histogram2d"
           }
          ],
          "histogram2dcontour": [
           {
            "colorbar": {
             "outlinewidth": 0,
             "ticks": ""
            },
            "colorscale": [
             [
              0,
              "#0d0887"
             ],
             [
              0.1111111111111111,
              "#46039f"
             ],
             [
              0.2222222222222222,
              "#7201a8"
             ],
             [
              0.3333333333333333,
              "#9c179e"
             ],
             [
              0.4444444444444444,
              "#bd3786"
             ],
             [
              0.5555555555555556,
              "#d8576b"
             ],
             [
              0.6666666666666666,
              "#ed7953"
             ],
             [
              0.7777777777777778,
              "#fb9f3a"
             ],
             [
              0.8888888888888888,
              "#fdca26"
             ],
             [
              1,
              "#f0f921"
             ]
            ],
            "type": "histogram2dcontour"
           }
          ],
          "mesh3d": [
           {
            "colorbar": {
             "outlinewidth": 0,
             "ticks": ""
            },
            "type": "mesh3d"
           }
          ],
          "parcoords": [
           {
            "line": {
             "colorbar": {
              "outlinewidth": 0,
              "ticks": ""
             }
            },
            "type": "parcoords"
           }
          ],
          "pie": [
           {
            "automargin": true,
            "type": "pie"
           }
          ],
          "scatter": [
           {
            "fillpattern": {
             "fillmode": "overlay",
             "size": 10,
             "solidity": 0.2
            },
            "type": "scatter"
           }
          ],
          "scatter3d": [
           {
            "line": {
             "colorbar": {
              "outlinewidth": 0,
              "ticks": ""
             }
            },
            "marker": {
             "colorbar": {
              "outlinewidth": 0,
              "ticks": ""
             }
            },
            "type": "scatter3d"
           }
          ],
          "scattercarpet": [
           {
            "marker": {
             "colorbar": {
              "outlinewidth": 0,
              "ticks": ""
             }
            },
            "type": "scattercarpet"
           }
          ],
          "scattergeo": [
           {
            "marker": {
             "colorbar": {
              "outlinewidth": 0,
              "ticks": ""
             }
            },
            "type": "scattergeo"
           }
          ],
          "scattergl": [
           {
            "marker": {
             "colorbar": {
              "outlinewidth": 0,
              "ticks": ""
             }
            },
            "type": "scattergl"
           }
          ],
          "scattermap": [
           {
            "marker": {
             "colorbar": {
              "outlinewidth": 0,
              "ticks": ""
             }
            },
            "type": "scattermap"
           }
          ],
          "scattermapbox": [
           {
            "marker": {
             "colorbar": {
              "outlinewidth": 0,
              "ticks": ""
             }
            },
            "type": "scattermapbox"
           }
          ],
          "scatterpolar": [
           {
            "marker": {
             "colorbar": {
              "outlinewidth": 0,
              "ticks": ""
             }
            },
            "type": "scatterpolar"
           }
          ],
          "scatterpolargl": [
           {
            "marker": {
             "colorbar": {
              "outlinewidth": 0,
              "ticks": ""
             }
            },
            "type": "scatterpolargl"
           }
          ],
          "scatterternary": [
           {
            "marker": {
             "colorbar": {
              "outlinewidth": 0,
              "ticks": ""
             }
            },
            "type": "scatterternary"
           }
          ],
          "surface": [
           {
            "colorbar": {
             "outlinewidth": 0,
             "ticks": ""
            },
            "colorscale": [
             [
              0,
              "#0d0887"
             ],
             [
              0.1111111111111111,
              "#46039f"
             ],
             [
              0.2222222222222222,
              "#7201a8"
             ],
             [
              0.3333333333333333,
              "#9c179e"
             ],
             [
              0.4444444444444444,
              "#bd3786"
             ],
             [
              0.5555555555555556,
              "#d8576b"
             ],
             [
              0.6666666666666666,
              "#ed7953"
             ],
             [
              0.7777777777777778,
              "#fb9f3a"
             ],
             [
              0.8888888888888888,
              "#fdca26"
             ],
             [
              1,
              "#f0f921"
             ]
            ],
            "type": "surface"
           }
          ],
          "table": [
           {
            "cells": {
             "fill": {
              "color": "#EBF0F8"
             },
             "line": {
              "color": "white"
             }
            },
            "header": {
             "fill": {
              "color": "#C8D4E3"
             },
             "line": {
              "color": "white"
             }
            },
            "type": "table"
           }
          ]
         },
         "layout": {
          "annotationdefaults": {
           "arrowcolor": "#2a3f5f",
           "arrowhead": 0,
           "arrowwidth": 1
          },
          "autotypenumbers": "strict",
          "coloraxis": {
           "colorbar": {
            "outlinewidth": 0,
            "ticks": ""
           }
          },
          "colorscale": {
           "diverging": [
            [
             0,
             "#8e0152"
            ],
            [
             0.1,
             "#c51b7d"
            ],
            [
             0.2,
             "#de77ae"
            ],
            [
             0.3,
             "#f1b6da"
            ],
            [
             0.4,
             "#fde0ef"
            ],
            [
             0.5,
             "#f7f7f7"
            ],
            [
             0.6,
             "#e6f5d0"
            ],
            [
             0.7,
             "#b8e186"
            ],
            [
             0.8,
             "#7fbc41"
            ],
            [
             0.9,
             "#4d9221"
            ],
            [
             1,
             "#276419"
            ]
           ],
           "sequential": [
            [
             0,
             "#0d0887"
            ],
            [
             0.1111111111111111,
             "#46039f"
            ],
            [
             0.2222222222222222,
             "#7201a8"
            ],
            [
             0.3333333333333333,
             "#9c179e"
            ],
            [
             0.4444444444444444,
             "#bd3786"
            ],
            [
             0.5555555555555556,
             "#d8576b"
            ],
            [
             0.6666666666666666,
             "#ed7953"
            ],
            [
             0.7777777777777778,
             "#fb9f3a"
            ],
            [
             0.8888888888888888,
             "#fdca26"
            ],
            [
             1,
             "#f0f921"
            ]
           ],
           "sequentialminus": [
            [
             0,
             "#0d0887"
            ],
            [
             0.1111111111111111,
             "#46039f"
            ],
            [
             0.2222222222222222,
             "#7201a8"
            ],
            [
             0.3333333333333333,
             "#9c179e"
            ],
            [
             0.4444444444444444,
             "#bd3786"
            ],
            [
             0.5555555555555556,
             "#d8576b"
            ],
            [
             0.6666666666666666,
             "#ed7953"
            ],
            [
             0.7777777777777778,
             "#fb9f3a"
            ],
            [
             0.8888888888888888,
             "#fdca26"
            ],
            [
             1,
             "#f0f921"
            ]
           ]
          },
          "colorway": [
           "#636efa",
           "#EF553B",
           "#00cc96",
           "#ab63fa",
           "#FFA15A",
           "#19d3f3",
           "#FF6692",
           "#B6E880",
           "#FF97FF",
           "#FECB52"
          ],
          "font": {
           "color": "#2a3f5f"
          },
          "geo": {
           "bgcolor": "white",
           "lakecolor": "white",
           "landcolor": "#E5ECF6",
           "showlakes": true,
           "showland": true,
           "subunitcolor": "white"
          },
          "hoverlabel": {
           "align": "left"
          },
          "hovermode": "closest",
          "mapbox": {
           "style": "light"
          },
          "paper_bgcolor": "white",
          "plot_bgcolor": "#E5ECF6",
          "polar": {
           "angularaxis": {
            "gridcolor": "white",
            "linecolor": "white",
            "ticks": ""
           },
           "bgcolor": "#E5ECF6",
           "radialaxis": {
            "gridcolor": "white",
            "linecolor": "white",
            "ticks": ""
           }
          },
          "scene": {
           "xaxis": {
            "backgroundcolor": "#E5ECF6",
            "gridcolor": "white",
            "gridwidth": 2,
            "linecolor": "white",
            "showbackground": true,
            "ticks": "",
            "zerolinecolor": "white"
           },
           "yaxis": {
            "backgroundcolor": "#E5ECF6",
            "gridcolor": "white",
            "gridwidth": 2,
            "linecolor": "white",
            "showbackground": true,
            "ticks": "",
            "zerolinecolor": "white"
           },
           "zaxis": {
            "backgroundcolor": "#E5ECF6",
            "gridcolor": "white",
            "gridwidth": 2,
            "linecolor": "white",
            "showbackground": true,
            "ticks": "",
            "zerolinecolor": "white"
           }
          },
          "shapedefaults": {
           "line": {
            "color": "#2a3f5f"
           }
          },
          "ternary": {
           "aaxis": {
            "gridcolor": "white",
            "linecolor": "white",
            "ticks": ""
           },
           "baxis": {
            "gridcolor": "white",
            "linecolor": "white",
            "ticks": ""
           },
           "bgcolor": "#E5ECF6",
           "caxis": {
            "gridcolor": "white",
            "linecolor": "white",
            "ticks": ""
           }
          },
          "title": {
           "x": 0.05
          },
          "xaxis": {
           "automargin": true,
           "gridcolor": "white",
           "linecolor": "white",
           "ticks": "",
           "title": {
            "standoff": 15
           },
           "zerolinecolor": "white",
           "zerolinewidth": 2
          },
          "yaxis": {
           "automargin": true,
           "gridcolor": "white",
           "linecolor": "white",
           "ticks": "",
           "title": {
            "standoff": 15
           },
           "zerolinecolor": "white",
           "zerolinewidth": 2
          }
         }
        },
        "title": {
         "text": "Top 10 chi_det per half_decade (union set) (normalized)"
        },
        "width": 1000,
        "xaxis": {
         "anchor": "y",
         "domain": [
          0,
          1
         ],
         "tickmode": "array",
         "ticktext": {
          "bdata": "1gbbBuAG5QbqBu8G9Ab5Bv4GAwc=",
          "dtype": "i2"
         },
         "tickvals": {
          "bdata": "1gbbBuAG5QbqBu8G9Ab5Bv4GAwc=",
          "dtype": "i2"
         },
         "title": {
          "text": "half_decade"
         }
        },
        "yaxis": {
         "anchor": "x",
         "domain": [
          0,
          1
         ],
         "title": {
          "text": "Frequency per occurrence of target token"
         }
        }
       }
      }
     },
     "metadata": {},
     "output_type": "display_data"
    }
   ],
   "source": [
    "# Bar chart (absolute freq)\n",
    "plot_top_slot_fillers_by_period(air_det_df, \n",
    "                              slot_type='chi_det',\n",
    "                              top_n=10,\n",
    "                              normalized=True,\n",
    "                              time_col='half_decade',\n",
    "                              chart_type='line')\n",
    "\n",
    "# Line chart (normalized)\n",
    "# plot_top_adjectives_by_period(air_adj_df, top_n=5, normalized=True, time_mode='half_decade', chart_type='line')\n"
   ]
  },
  {
   "cell_type": "markdown",
   "id": "15d4de2d",
   "metadata": {},
   "source": [
    "#### Slot Filler JSD"
   ]
  },
  {
   "cell_type": "code",
   "execution_count": 55,
   "id": "70984d3b",
   "metadata": {},
   "outputs": [],
   "source": [
    "from SynFlow.SCD.JSD import sfillers_js_shift_by_period"
   ]
  },
  {
   "cell_type": "code",
   "execution_count": 63,
   "id": "4dea1cb4",
   "metadata": {},
   "outputs": [
    {
     "name": "stdout",
     "output_type": "stream",
     "text": [
      "\n",
      "=== Shift to period 1755 ===\n",
      "Jensen-Shannon Divergence: 0.0122\n",
      "Top shifted items:\n",
      "  de_this/D: 0.0031\n",
      "  in_which/D: 0.0030\n",
      "  de_a/D: 0.0023\n",
      "  in_no/D: 0.0023\n",
      "  in_that/D: 0.0015\n",
      "  de_the/D: 0.0000\n",
      "\n",
      "=== Shift to period 1760 ===\n",
      "Jensen-Shannon Divergence: 0.0358\n",
      "Top shifted items:\n",
      "  de_that/D: 0.0122\n",
      "  in_any/D: 0.0103\n",
      "  de_no/D: 0.0091\n",
      "  de_which/D: 0.0030\n",
      "  de_a/D: 0.0008\n",
      "  in_the/D: 0.0002\n",
      "\n",
      "=== Shift to period 1765 ===\n",
      "Jensen-Shannon Divergence: 0.0588\n",
      "Top shifted items:\n",
      "  in_this/D: 0.0315\n",
      "  in_that/D: 0.0095\n",
      "  in_no/D: 0.0074\n",
      "  in_some/D: 0.0053\n",
      "  de_the/D: 0.0028\n",
      "  in_which/D: 0.0021\n",
      "  in_a/D: 0.0003\n",
      "  in_any/D: 0.0001\n",
      "\n",
      "=== Shift to period 1770 ===\n",
      "Jensen-Shannon Divergence: 0.0154\n",
      "Top shifted items:\n",
      "  de_any/D: 0.0064\n",
      "  in_this/D: 0.0028\n",
      "  in_all/D: 0.0015\n",
      "  in_neither/D: 0.0015\n",
      "  de_no/D: 0.0014\n",
      "  in_that/D: 0.0008\n",
      "  in_what/D: 0.0007\n",
      "  de_some/D: 0.0002\n",
      "  de_the/D: 0.0001\n",
      "  in_which/D: 0.0000\n",
      "\n",
      "=== Shift to period 1775 ===\n",
      "Jensen-Shannon Divergence: 0.0064\n",
      "Top shifted items:\n",
      "  de_all/D: 0.0015\n",
      "  de_neither/D: 0.0015\n",
      "  in_any/D: 0.0011\n",
      "  de_what/D: 0.0007\n",
      "  de_some/D: 0.0006\n",
      "  de_this/D: 0.0005\n",
      "  de_which/D: 0.0003\n",
      "  in_the/D: 0.0001\n",
      "  in_a/D: 0.0001\n",
      "  de_that/D: 0.0000\n",
      "\n",
      "=== Shift to period 1780 ===\n",
      "Jensen-Shannon Divergence: 0.0295\n",
      "Top shifted items:\n",
      "  in_no/D: 0.0078\n",
      "  in_both/D: 0.0063\n",
      "  in_some/D: 0.0042\n",
      "  in_any/D: 0.0035\n",
      "  in_all/D: 0.0034\n",
      "  de_that/D: 0.0011\n",
      "  in_whatever/D: 0.0008\n",
      "  de_the/D: 0.0008\n",
      "  in_another/D: 0.0004\n",
      "  in_each/D: 0.0004\n",
      "\n",
      "=== Shift to period 1785 ===\n",
      "Jensen-Shannon Divergence: 0.0118\n",
      "Top shifted items:\n",
      "  de_both/D: 0.0041\n",
      "  in_this/D: 0.0039\n",
      "  de_which/D: 0.0013\n",
      "  de_any/D: 0.0012\n",
      "  de_a/D: 0.0006\n",
      "  de_another/D: 0.0004\n",
      "  de_some/D: 0.0001\n",
      "  de_that/D: 0.0001\n",
      "  de_whatever/D: 0.0000\n",
      "  in_each/D: 0.0000\n",
      "\n",
      "=== Shift to period 1790 ===\n",
      "Jensen-Shannon Divergence: 0.0199\n",
      "Top shifted items:\n",
      "  de_this/D: 0.0044\n",
      "  in_a/D: 0.0039\n",
      "  in_which/D: 0.0025\n",
      "  de_any/D: 0.0020\n",
      "  de_no/D: 0.0017\n",
      "  de_some/D: 0.0013\n",
      "  in_the/D: 0.0009\n",
      "  in_wthe/D: 0.0008\n",
      "  de_both/D: 0.0005\n",
      "  de_each/D: 0.0005\n",
      "\n",
      "=== Shift to period 1795 ===\n",
      "Jensen-Shannon Divergence: 0.0247\n",
      "Top shifted items:\n",
      "  de_this/D: 0.0085\n",
      "  de_a/D: 0.0043\n",
      "  de_some/D: 0.0033\n",
      "  de_which/D: 0.0025\n",
      "  in_the/D: 0.0018\n",
      "  de_all/D: 0.0017\n",
      "  de_no/D: 0.0011\n",
      "  de_wthe/D: 0.0008\n",
      "  de_that/D: 0.0005\n",
      "  in_any/D: 0.0002\n"
     ]
    }
   ],
   "source": [
    "sfillers_js_df = pd.read_csv(air_det_df)\n",
    "sfillers_js_results = sfillers_js_shift_by_period(sfillers_js_df, word_col='chi_det', period_col='half_decade')\n",
    "print_js_shifts(sfillers_js_results)"
   ]
  },
  {
   "cell_type": "code",
   "execution_count": 64,
   "id": "f5fa3ec2",
   "metadata": {},
   "outputs": [
    {
     "data": {
      "image/png": "[encoded data removed]",
      "text/plain": [
       "<Figure size 800x500 with 1 Axes>"
      ]
     },
     "metadata": {},
     "output_type": "display_data"
    }
   ],
   "source": [
    "plot_jsd_over_time(sfillers_js_results)"
   ]
  },
  {
   "cell_type": "code",
   "execution_count": 65,
   "id": "3a1bd3ae",
   "metadata": {},
   "outputs": [
    {
     "data": {
      "image/png": "[encoded data removed]",
      "text/plain": [
       "<Figure size 1500x1200 with 9 Axes>"
      ]
     },
     "metadata": {},
     "output_type": "display_data"
    }
   ],
   "source": [
    "plot_all_jsd_shifts(sfillers_js_results, top_n=10, cols=3)"
   ]
  }
 ],
 "metadata": {
  "kernelspec": {
   "display_name": "Bython311",
   "language": "python",
   "name": "python3"
  },
  "language_info": {
   "codemirror_mode": {
    "name": "ipython",
    "version": 3
   },
   "file_extension": ".py",
   "mimetype": "text/x-python",
   "name": "python",
   "nbconvert_exporter": "python",
   "pygments_lexer": "ipython3",
   "version": "3.11.11"
  }
 },
 "nbformat": 4,
 "nbformat_minor": 5
}
